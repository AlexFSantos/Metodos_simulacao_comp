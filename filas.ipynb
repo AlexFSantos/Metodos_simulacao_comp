{
 "cells": [
  {
   "cell_type": "markdown",
   "metadata": {},
   "source": [
    "Exemplos de filas em python"
   ]
  },
  {
   "cell_type": "code",
   "execution_count": 1,
   "metadata": {},
   "outputs": [],
   "source": [
    "from collections import deque"
   ]
  },
  {
   "cell_type": "code",
   "execution_count": 2,
   "metadata": {},
   "outputs": [
    {
     "name": "stdout",
     "output_type": "stream",
     "text": [
      "deque([])\n"
     ]
    }
   ],
   "source": [
    "# criação de uma fila - um par de colchetes indica uma lista\n",
    "# representação de uma lista: [1, 2, 3, 4, 5, 6]\n",
    "fila = deque([])\n",
    "print(fila)"
   ]
  },
  {
   "cell_type": "code",
   "execution_count": 3,
   "metadata": {},
   "outputs": [
    {
     "name": "stdout",
     "output_type": "stream",
     "text": [
      "deque(['Banana'])\n"
     ]
    }
   ],
   "source": [
    "# adicionando um elemento na fila\n",
    "fila.append('Banana')\n",
    "print(fila)"
   ]
  },
  {
   "cell_type": "code",
   "execution_count": 4,
   "metadata": {},
   "outputs": [
    {
     "name": "stdout",
     "output_type": "stream",
     "text": [
      "deque(['Banana', 'Maça'])\n"
     ]
    }
   ],
   "source": [
    "fila.append('Maçã')\n",
    "print(fila)"
   ]
  },
  {
   "cell_type": "code",
   "execution_count": 5,
   "metadata": {},
   "outputs": [
    {
     "name": "stdout",
     "output_type": "stream",
     "text": [
      "deque(['Maça'])\n"
     ]
    }
   ],
   "source": [
    "# removendo um elemento da fila (primeiro)\n",
    "fila.popleft()\n",
    "print(fila)"
   ]
  },
  {
   "cell_type": "code",
   "execution_count": 6,
   "metadata": {},
   "outputs": [
    {
     "name": "stdout",
     "output_type": "stream",
     "text": [
      "deque([])\n"
     ]
    }
   ],
   "source": [
    "fila.popleft()\n",
    "print(fila)"
   ]
  },
  {
   "cell_type": "code",
   "execution_count": null,
   "metadata": {},
   "outputs": [],
   "source": [
    "# faz a inclusão do elemento no inicio da fila\n",
    "fila.appendleft('Uva')\n",
    "fila.appendleft('Pêra')"
   ]
  },
  {
   "cell_type": "markdown",
   "metadata": {},
   "source": [
    "# usando os conceitos acima, criar uma simulação de fila de um banco com 20 entradas\n",
    "# Mostrando o processo de chegada e de saida\n",
    "\n",
    "# dica: sabendo o tamanho da fila\n",
    "\n",
    "len(fila)"
   ]
  },
  {
   "cell_type": "code",
   "execution_count": 15,
   "metadata": {},
   "outputs": [
    {
     "name": "stdout",
     "output_type": "stream",
     "text": [
      "deque([1, 2, 3, 4, 5, 6, 7, 8, 9, 10, 11, 12, 13, 14, 15, 16, 17, 18, 19, 20])\n",
      "deque([])\n"
     ]
    }
   ],
   "source": [
    "# fila banco sem preferencial\n",
    "\n",
    "fila_banco = deque([])\n",
    "num = 1\n",
    "for i in range(20):\n",
    "    fila_banco.append(num)\n",
    "    num += 1\n",
    "\n",
    "print(fila_banco)\n",
    "\n",
    "\n",
    "while len(fila_banco) > 0:\n",
    "    fila_banco.popleft()\n",
    "\n",
    "\n",
    "print(fila_banco)"
   ]
  },
  {
   "cell_type": "code",
   "execution_count": 25,
   "metadata": {},
   "outputs": [
    {
     "name": "stdout",
     "output_type": "stream",
     "text": [
      "deque([1, 2, 3, 4, 5, 6, 7, 8, 9, 10, 11, 12, 13, 14, 15, 16])\n",
      "deque(['gabriel', 'alex', 1, 2, 3, 4, 5, 6, 7, 8, 9, 10, 11, 12, 13, 14, 15, 16])\n",
      "deque([])\n"
     ]
    }
   ],
   "source": [
    "# fila banco com preferencial\n",
    "\n",
    "fila_banco = deque([])\n",
    "num = 1\n",
    "for i in range(16):\n",
    "    fila_banco.append(num)\n",
    "    num += 1\n",
    "print(fila_banco)\n",
    "\n",
    "a = input(\"Existe preferencial na fila? sim ou não\")\n",
    "\n",
    "if 'sim' in a:\n",
    "    j = 0\n",
    "    for j in range(2):\n",
    "        fila_banco.appendleft(input('Digite o seu nome: '))\n",
    "        j += 1\n",
    "\n",
    "print(fila_banco)\n",
    "\n",
    "while len(fila_banco) > 0:\n",
    "    fila_banco.popleft()\n",
    "\n",
    "print(fila_banco)\n",
    "\n"
   ]
  }
 ],
 "metadata": {
  "interpreter": {
   "hash": "167380c844cb8dab65f7a2242fcdd292fd16a45a4bab8a9de8ac74aeee39fadd"
  },
  "kernelspec": {
   "display_name": "Python 3.9.10 64-bit",
   "language": "python",
   "name": "python3"
  },
  "language_info": {
   "codemirror_mode": {
    "name": "ipython",
    "version": 3
   },
   "file_extension": ".py",
   "mimetype": "text/x-python",
   "name": "python",
   "nbconvert_exporter": "python",
   "pygments_lexer": "ipython3",
   "version": "3.9.10"
  },
  "orig_nbformat": 4
 },
 "nbformat": 4,
 "nbformat_minor": 2
}
